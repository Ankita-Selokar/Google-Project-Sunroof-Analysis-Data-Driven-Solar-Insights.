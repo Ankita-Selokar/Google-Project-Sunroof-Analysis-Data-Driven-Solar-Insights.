{
 "cells": [
  {
   "cell_type": "code",
   "execution_count": 1,
   "id": "80edb630-0c23-4a85-9d87-85cdfcb1eb2f",
   "metadata": {},
   "outputs": [
    {
     "name": "stdout",
     "output_type": "stream",
     "text": [
      "Requirement already satisfied: pandas in c:\\users\\ankita\\anaconda3\\lib\\site-packages (2.2.2)\n",
      "Requirement already satisfied: numpy>=1.26.0 in c:\\users\\ankita\\anaconda3\\lib\\site-packages (from pandas) (1.26.4)\n",
      "Requirement already satisfied: python-dateutil>=2.8.2 in c:\\users\\ankita\\anaconda3\\lib\\site-packages (from pandas) (2.9.0.post0)\n",
      "Requirement already satisfied: pytz>=2020.1 in c:\\users\\ankita\\anaconda3\\lib\\site-packages (from pandas) (2024.1)\n",
      "Requirement already satisfied: tzdata>=2022.7 in c:\\users\\ankita\\anaconda3\\lib\\site-packages (from pandas) (2023.3)\n",
      "Requirement already satisfied: six>=1.5 in c:\\users\\ankita\\anaconda3\\lib\\site-packages (from python-dateutil>=2.8.2->pandas) (1.16.0)\n"
     ]
    }
   ],
   "source": [
    "!pip install pandas"
   ]
  },
  {
   "cell_type": "code",
   "execution_count": 3,
   "id": "be0d84ef-4c4e-4768-af3e-bb015051dd63",
   "metadata": {},
   "outputs": [],
   "source": [
    "import pandas as pd"
   ]
  },
  {
   "cell_type": "code",
   "execution_count": 13,
   "id": "7969523d-4583-4bb6-b72f-607e72cd4fed",
   "metadata": {},
   "outputs": [],
   "source": [
    "# Load data\n",
    "sunroof_df = pd.read_csv('C:/Users/ANKITA/Project_Sunroof_Analysis/Project_Sunroof.csv')\n",
    "\n",
    "population_df = pd.read_csv('C:/Users/ANKITA/Project_Sunroof_Analysis/ZipCode_Population.csv')\n"
   ]
  },
  {
   "cell_type": "code",
   "execution_count": 15,
   "id": "8eda7bee-0e45-4d18-bc6d-f5bc7c246fb6",
   "metadata": {},
   "outputs": [
    {
     "data": {
      "text/html": [
       "<div>\n",
       "<style scoped>\n",
       "    .dataframe tbody tr th:only-of-type {\n",
       "        vertical-align: middle;\n",
       "    }\n",
       "\n",
       "    .dataframe tbody tr th {\n",
       "        vertical-align: top;\n",
       "    }\n",
       "\n",
       "    .dataframe thead th {\n",
       "        text-align: right;\n",
       "    }\n",
       "</style>\n",
       "<table border=\"1\" class=\"dataframe\">\n",
       "  <thead>\n",
       "    <tr style=\"text-align: right;\">\n",
       "      <th></th>\n",
       "      <th>geo_id</th>\n",
       "      <th>zipcode</th>\n",
       "      <th>population</th>\n",
       "      <th>minimum_age</th>\n",
       "      <th>maximum_age</th>\n",
       "      <th>gender</th>\n",
       "    </tr>\n",
       "  </thead>\n",
       "  <tbody>\n",
       "    <tr>\n",
       "      <th>0</th>\n",
       "      <td>8600000US25647</td>\n",
       "      <td>25647</td>\n",
       "      <td>768</td>\n",
       "      <td>NaN</td>\n",
       "      <td>NaN</td>\n",
       "      <td>NaN</td>\n",
       "    </tr>\n",
       "    <tr>\n",
       "      <th>1</th>\n",
       "      <td>8600000US49336</td>\n",
       "      <td>49336</td>\n",
       "      <td>4352</td>\n",
       "      <td>NaN</td>\n",
       "      <td>NaN</td>\n",
       "      <td>NaN</td>\n",
       "    </tr>\n",
       "    <tr>\n",
       "      <th>2</th>\n",
       "      <td>8600000US72106</td>\n",
       "      <td>72106</td>\n",
       "      <td>5376</td>\n",
       "      <td>NaN</td>\n",
       "      <td>NaN</td>\n",
       "      <td>NaN</td>\n",
       "    </tr>\n",
       "    <tr>\n",
       "      <th>3</th>\n",
       "      <td>8600000US74074</td>\n",
       "      <td>74074</td>\n",
       "      <td>29184</td>\n",
       "      <td>NaN</td>\n",
       "      <td>NaN</td>\n",
       "      <td>NaN</td>\n",
       "    </tr>\n",
       "    <tr>\n",
       "      <th>4</th>\n",
       "      <td>8600000US01960</td>\n",
       "      <td>1960</td>\n",
       "      <td>50944</td>\n",
       "      <td>NaN</td>\n",
       "      <td>NaN</td>\n",
       "      <td>NaN</td>\n",
       "    </tr>\n",
       "  </tbody>\n",
       "</table>\n",
       "</div>"
      ],
      "text/plain": [
       "           geo_id  zipcode  population  minimum_age  maximum_age gender\n",
       "0  8600000US25647    25647         768          NaN          NaN    NaN\n",
       "1  8600000US49336    49336        4352          NaN          NaN    NaN\n",
       "2  8600000US72106    72106        5376          NaN          NaN    NaN\n",
       "3  8600000US74074    74074       29184          NaN          NaN    NaN\n",
       "4  8600000US01960     1960       50944          NaN          NaN    NaN"
      ]
     },
     "execution_count": 15,
     "metadata": {},
     "output_type": "execute_result"
    }
   ],
   "source": [
    "population_df.head()"
   ]
  },
  {
   "cell_type": "code",
   "execution_count": 17,
   "id": "c1613ba7-c77b-4a29-bead-7865f7d182e4",
   "metadata": {},
   "outputs": [
    {
     "data": {
      "text/html": [
       "<div>\n",
       "<style scoped>\n",
       "    .dataframe tbody tr th:only-of-type {\n",
       "        vertical-align: middle;\n",
       "    }\n",
       "\n",
       "    .dataframe tbody tr th {\n",
       "        vertical-align: top;\n",
       "    }\n",
       "\n",
       "    .dataframe thead th {\n",
       "        text-align: right;\n",
       "    }\n",
       "</style>\n",
       "<table border=\"1\" class=\"dataframe\">\n",
       "  <thead>\n",
       "    <tr style=\"text-align: right;\">\n",
       "      <th></th>\n",
       "      <th>region_name</th>\n",
       "      <th>state_name</th>\n",
       "      <th>lat_max</th>\n",
       "      <th>lat_min</th>\n",
       "      <th>lng_max</th>\n",
       "      <th>lng_min</th>\n",
       "      <th>lat_avg</th>\n",
       "      <th>lng_avg</th>\n",
       "      <th>yearly_sunlight_kwh_kw_threshold_avg</th>\n",
       "      <th>count_qualified</th>\n",
       "      <th>...</th>\n",
       "      <th>yearly_sunlight_kwh_s</th>\n",
       "      <th>yearly_sunlight_kwh_e</th>\n",
       "      <th>yearly_sunlight_kwh_w</th>\n",
       "      <th>yearly_sunlight_kwh_f</th>\n",
       "      <th>yearly_sunlight_kwh_median</th>\n",
       "      <th>yearly_sunlight_kwh_total</th>\n",
       "      <th>install_size_kw_buckets</th>\n",
       "      <th>carbon_offset_metric_tons</th>\n",
       "      <th>existing_installs_count</th>\n",
       "      <th>center_point</th>\n",
       "    </tr>\n",
       "  </thead>\n",
       "  <tbody>\n",
       "    <tr>\n",
       "      <th>0</th>\n",
       "      <td>19149</td>\n",
       "      <td>Pennsylvania</td>\n",
       "      <td>40.051229</td>\n",
       "      <td>40.026879</td>\n",
       "      <td>-75.041355</td>\n",
       "      <td>-75.092596</td>\n",
       "      <td>40.037404</td>\n",
       "      <td>-75.065705</td>\n",
       "      <td>997.9</td>\n",
       "      <td>4602</td>\n",
       "      <td>...</td>\n",
       "      <td>1850868.942</td>\n",
       "      <td>1576590.637</td>\n",
       "      <td>8.580837e+05</td>\n",
       "      <td>4.382758e+07</td>\n",
       "      <td>3332.078650</td>\n",
       "      <td>4.901625e+07</td>\n",
       "      <td>[[0,3888],[5,430],[10,80],[15,39],[20,24],[25,...</td>\n",
       "      <td>31147.89920</td>\n",
       "      <td>3</td>\n",
       "      <td>POINT(-75.0657051746548 40.0374044403417)</td>\n",
       "    </tr>\n",
       "    <tr>\n",
       "      <th>1</th>\n",
       "      <td>19120</td>\n",
       "      <td>Pennsylvania</td>\n",
       "      <td>40.052709</td>\n",
       "      <td>40.012403</td>\n",
       "      <td>-75.096987</td>\n",
       "      <td>-75.138747</td>\n",
       "      <td>40.034398</td>\n",
       "      <td>-75.120887</td>\n",
       "      <td>997.9</td>\n",
       "      <td>6086</td>\n",
       "      <td>...</td>\n",
       "      <td>5073438.265</td>\n",
       "      <td>3776295.319</td>\n",
       "      <td>2.820022e+06</td>\n",
       "      <td>6.464504e+07</td>\n",
       "      <td>3572.812305</td>\n",
       "      <td>7.826531e+07</td>\n",
       "      <td>[[0,4877],[5,722],[10,107],[15,67],[20,40],[25...</td>\n",
       "      <td>49734.52577</td>\n",
       "      <td>2</td>\n",
       "      <td>POINT(-75.120887243506 40.0343982932811)</td>\n",
       "    </tr>\n",
       "    <tr>\n",
       "      <th>2</th>\n",
       "      <td>19132</td>\n",
       "      <td>Pennsylvania</td>\n",
       "      <td>40.005893</td>\n",
       "      <td>39.986358</td>\n",
       "      <td>-75.150639</td>\n",
       "      <td>-75.190697</td>\n",
       "      <td>39.995681</td>\n",
       "      <td>-75.169645</td>\n",
       "      <td>997.9</td>\n",
       "      <td>5157</td>\n",
       "      <td>...</td>\n",
       "      <td>4355742.145</td>\n",
       "      <td>2644355.206</td>\n",
       "      <td>2.354784e+06</td>\n",
       "      <td>5.176022e+07</td>\n",
       "      <td>3379.915637</td>\n",
       "      <td>6.231354e+07</td>\n",
       "      <td>[[0,4250],[5,463],[10,78],[15,68],[20,37],[25,...</td>\n",
       "      <td>39597.80138</td>\n",
       "      <td>0</td>\n",
       "      <td>POINT(-75.169645159245 39.9956814907579)</td>\n",
       "    </tr>\n",
       "    <tr>\n",
       "      <th>3</th>\n",
       "      <td>19134</td>\n",
       "      <td>Pennsylvania</td>\n",
       "      <td>40.007334</td>\n",
       "      <td>39.977417</td>\n",
       "      <td>-75.087213</td>\n",
       "      <td>-75.131005</td>\n",
       "      <td>39.992451</td>\n",
       "      <td>-75.111935</td>\n",
       "      <td>997.9</td>\n",
       "      <td>7551</td>\n",
       "      <td>...</td>\n",
       "      <td>7368521.892</td>\n",
       "      <td>3994669.895</td>\n",
       "      <td>5.198416e+06</td>\n",
       "      <td>1.131108e+08</td>\n",
       "      <td>3582.464453</td>\n",
       "      <td>1.325080e+08</td>\n",
       "      <td>[[0,5795],[5,831],[10,179],[15,117],[20,87],[2...</td>\n",
       "      <td>84203.60023</td>\n",
       "      <td>3</td>\n",
       "      <td>POINT(-75.1119347717865 39.9924510629131)</td>\n",
       "    </tr>\n",
       "    <tr>\n",
       "      <th>4</th>\n",
       "      <td>19138</td>\n",
       "      <td>Pennsylvania</td>\n",
       "      <td>40.071452</td>\n",
       "      <td>40.039948</td>\n",
       "      <td>-75.147013</td>\n",
       "      <td>-75.176449</td>\n",
       "      <td>40.056627</td>\n",
       "      <td>-75.156949</td>\n",
       "      <td>997.9</td>\n",
       "      <td>4256</td>\n",
       "      <td>...</td>\n",
       "      <td>2038110.630</td>\n",
       "      <td>1696291.307</td>\n",
       "      <td>8.202375e+05</td>\n",
       "      <td>2.960903e+07</td>\n",
       "      <td>3545.397314</td>\n",
       "      <td>3.479628e+07</td>\n",
       "      <td>[[0,3505],[5,529],[10,57],[15,29],[20,12],[25,...</td>\n",
       "      <td>22111.66863</td>\n",
       "      <td>3</td>\n",
       "      <td>POINT(-75.1569492782584 40.0566267715424)</td>\n",
       "    </tr>\n",
       "  </tbody>\n",
       "</table>\n",
       "<p>5 rows × 32 columns</p>\n",
       "</div>"
      ],
      "text/plain": [
       "   region_name    state_name    lat_max    lat_min    lng_max    lng_min  \\\n",
       "0        19149  Pennsylvania  40.051229  40.026879 -75.041355 -75.092596   \n",
       "1        19120  Pennsylvania  40.052709  40.012403 -75.096987 -75.138747   \n",
       "2        19132  Pennsylvania  40.005893  39.986358 -75.150639 -75.190697   \n",
       "3        19134  Pennsylvania  40.007334  39.977417 -75.087213 -75.131005   \n",
       "4        19138  Pennsylvania  40.071452  40.039948 -75.147013 -75.176449   \n",
       "\n",
       "     lat_avg    lng_avg  yearly_sunlight_kwh_kw_threshold_avg  \\\n",
       "0  40.037404 -75.065705                                 997.9   \n",
       "1  40.034398 -75.120887                                 997.9   \n",
       "2  39.995681 -75.169645                                 997.9   \n",
       "3  39.992451 -75.111935                                 997.9   \n",
       "4  40.056627 -75.156949                                 997.9   \n",
       "\n",
       "   count_qualified  ...  yearly_sunlight_kwh_s  yearly_sunlight_kwh_e  \\\n",
       "0             4602  ...            1850868.942            1576590.637   \n",
       "1             6086  ...            5073438.265            3776295.319   \n",
       "2             5157  ...            4355742.145            2644355.206   \n",
       "3             7551  ...            7368521.892            3994669.895   \n",
       "4             4256  ...            2038110.630            1696291.307   \n",
       "\n",
       "   yearly_sunlight_kwh_w  yearly_sunlight_kwh_f  yearly_sunlight_kwh_median  \\\n",
       "0           8.580837e+05           4.382758e+07                 3332.078650   \n",
       "1           2.820022e+06           6.464504e+07                 3572.812305   \n",
       "2           2.354784e+06           5.176022e+07                 3379.915637   \n",
       "3           5.198416e+06           1.131108e+08                 3582.464453   \n",
       "4           8.202375e+05           2.960903e+07                 3545.397314   \n",
       "\n",
       "   yearly_sunlight_kwh_total  \\\n",
       "0               4.901625e+07   \n",
       "1               7.826531e+07   \n",
       "2               6.231354e+07   \n",
       "3               1.325080e+08   \n",
       "4               3.479628e+07   \n",
       "\n",
       "                             install_size_kw_buckets  \\\n",
       "0  [[0,3888],[5,430],[10,80],[15,39],[20,24],[25,...   \n",
       "1  [[0,4877],[5,722],[10,107],[15,67],[20,40],[25...   \n",
       "2  [[0,4250],[5,463],[10,78],[15,68],[20,37],[25,...   \n",
       "3  [[0,5795],[5,831],[10,179],[15,117],[20,87],[2...   \n",
       "4  [[0,3505],[5,529],[10,57],[15,29],[20,12],[25,...   \n",
       "\n",
       "   carbon_offset_metric_tons  existing_installs_count  \\\n",
       "0                31147.89920                        3   \n",
       "1                49734.52577                        2   \n",
       "2                39597.80138                        0   \n",
       "3                84203.60023                        3   \n",
       "4                22111.66863                        3   \n",
       "\n",
       "                                center_point  \n",
       "0  POINT(-75.0657051746548 40.0374044403417)  \n",
       "1   POINT(-75.120887243506 40.0343982932811)  \n",
       "2   POINT(-75.169645159245 39.9956814907579)  \n",
       "3  POINT(-75.1119347717865 39.9924510629131)  \n",
       "4  POINT(-75.1569492782584 40.0566267715424)  \n",
       "\n",
       "[5 rows x 32 columns]"
      ]
     },
     "execution_count": 17,
     "metadata": {},
     "output_type": "execute_result"
    }
   ],
   "source": [
    "sunroof_df.head()"
   ]
  },
  {
   "cell_type": "code",
   "execution_count": 19,
   "id": "d2598ce1-41a0-42e4-9510-6b0b501d88e2",
   "metadata": {},
   "outputs": [
    {
     "name": "stdout",
     "output_type": "stream",
     "text": [
      "<class 'pandas.core.frame.DataFrame'>\n",
      "RangeIndex: 11516 entries, 0 to 11515\n",
      "Data columns (total 32 columns):\n",
      " #   Column                                Non-Null Count  Dtype  \n",
      "---  ------                                --------------  -----  \n",
      " 0   region_name                           11516 non-null  int64  \n",
      " 1   state_name                            11516 non-null  object \n",
      " 2   lat_max                               11516 non-null  float64\n",
      " 3   lat_min                               11516 non-null  float64\n",
      " 4   lng_max                               11516 non-null  float64\n",
      " 5   lng_min                               11516 non-null  float64\n",
      " 6   lat_avg                               11516 non-null  float64\n",
      " 7   lng_avg                               11516 non-null  float64\n",
      " 8   yearly_sunlight_kwh_kw_threshold_avg  11516 non-null  float64\n",
      " 9   count_qualified                       11516 non-null  int64  \n",
      " 10  percent_covered                       11516 non-null  float64\n",
      " 11  percent_qualified                     11516 non-null  float64\n",
      " 12  number_of_panels_n                    11516 non-null  int64  \n",
      " 13  number_of_panels_s                    11516 non-null  int64  \n",
      " 14  number_of_panels_e                    11516 non-null  int64  \n",
      " 15  number_of_panels_w                    11516 non-null  int64  \n",
      " 16  number_of_panels_f                    11516 non-null  int64  \n",
      " 17  number_of_panels_median               11497 non-null  float64\n",
      " 18  number_of_panels_total                11497 non-null  float64\n",
      " 19  kw_median                             11497 non-null  float64\n",
      " 20  kw_total                              11497 non-null  float64\n",
      " 21  yearly_sunlight_kwh_n                 11516 non-null  float64\n",
      " 22  yearly_sunlight_kwh_s                 11516 non-null  float64\n",
      " 23  yearly_sunlight_kwh_e                 11516 non-null  float64\n",
      " 24  yearly_sunlight_kwh_w                 11516 non-null  float64\n",
      " 25  yearly_sunlight_kwh_f                 11516 non-null  float64\n",
      " 26  yearly_sunlight_kwh_median            11497 non-null  float64\n",
      " 27  yearly_sunlight_kwh_total             11497 non-null  float64\n",
      " 28  install_size_kw_buckets               11497 non-null  object \n",
      " 29  carbon_offset_metric_tons             11516 non-null  float64\n",
      " 30  existing_installs_count               11516 non-null  int64  \n",
      " 31  center_point                          11516 non-null  object \n",
      "dtypes: float64(21), int64(8), object(3)\n",
      "memory usage: 2.8+ MB\n"
     ]
    }
   ],
   "source": [
    "sunroof_df.info()"
   ]
  },
  {
   "cell_type": "code",
   "execution_count": 21,
   "id": "fd471264-c2d7-4912-a3d5-1bb009917ca6",
   "metadata": {
    "scrolled": true
   },
   "outputs": [
    {
     "name": "stdout",
     "output_type": "stream",
     "text": [
      "<class 'pandas.core.frame.DataFrame'>\n",
      "RangeIndex: 25000 entries, 0 to 24999\n",
      "Data columns (total 6 columns):\n",
      " #   Column       Non-Null Count  Dtype  \n",
      "---  ------       --------------  -----  \n",
      " 0   geo_id       25000 non-null  object \n",
      " 1   zipcode      25000 non-null  int64  \n",
      " 2   population   25000 non-null  int64  \n",
      " 3   minimum_age  0 non-null      float64\n",
      " 4   maximum_age  0 non-null      float64\n",
      " 5   gender       16205 non-null  object \n",
      "dtypes: float64(2), int64(2), object(2)\n",
      "memory usage: 1.1+ MB\n"
     ]
    }
   ],
   "source": [
    "population_df.info()"
   ]
  },
  {
   "cell_type": "code",
   "execution_count": 23,
   "id": "c5caf18d-cfcc-4667-88e2-d8003d0d3e0f",
   "metadata": {},
   "outputs": [],
   "source": [
    "sunroof_df = sunroof_df.dropna()"
   ]
  },
  {
   "cell_type": "code",
   "execution_count": 25,
   "id": "cfbdf094-c0b9-4d22-bdc6-d22fcd2e0b11",
   "metadata": {},
   "outputs": [
    {
     "name": "stdout",
     "output_type": "stream",
     "text": [
      "<class 'pandas.core.frame.DataFrame'>\n",
      "Index: 11497 entries, 0 to 11515\n",
      "Data columns (total 32 columns):\n",
      " #   Column                                Non-Null Count  Dtype  \n",
      "---  ------                                --------------  -----  \n",
      " 0   region_name                           11497 non-null  int64  \n",
      " 1   state_name                            11497 non-null  object \n",
      " 2   lat_max                               11497 non-null  float64\n",
      " 3   lat_min                               11497 non-null  float64\n",
      " 4   lng_max                               11497 non-null  float64\n",
      " 5   lng_min                               11497 non-null  float64\n",
      " 6   lat_avg                               11497 non-null  float64\n",
      " 7   lng_avg                               11497 non-null  float64\n",
      " 8   yearly_sunlight_kwh_kw_threshold_avg  11497 non-null  float64\n",
      " 9   count_qualified                       11497 non-null  int64  \n",
      " 10  percent_covered                       11497 non-null  float64\n",
      " 11  percent_qualified                     11497 non-null  float64\n",
      " 12  number_of_panels_n                    11497 non-null  int64  \n",
      " 13  number_of_panels_s                    11497 non-null  int64  \n",
      " 14  number_of_panels_e                    11497 non-null  int64  \n",
      " 15  number_of_panels_w                    11497 non-null  int64  \n",
      " 16  number_of_panels_f                    11497 non-null  int64  \n",
      " 17  number_of_panels_median               11497 non-null  float64\n",
      " 18  number_of_panels_total                11497 non-null  float64\n",
      " 19  kw_median                             11497 non-null  float64\n",
      " 20  kw_total                              11497 non-null  float64\n",
      " 21  yearly_sunlight_kwh_n                 11497 non-null  float64\n",
      " 22  yearly_sunlight_kwh_s                 11497 non-null  float64\n",
      " 23  yearly_sunlight_kwh_e                 11497 non-null  float64\n",
      " 24  yearly_sunlight_kwh_w                 11497 non-null  float64\n",
      " 25  yearly_sunlight_kwh_f                 11497 non-null  float64\n",
      " 26  yearly_sunlight_kwh_median            11497 non-null  float64\n",
      " 27  yearly_sunlight_kwh_total             11497 non-null  float64\n",
      " 28  install_size_kw_buckets               11497 non-null  object \n",
      " 29  carbon_offset_metric_tons             11497 non-null  float64\n",
      " 30  existing_installs_count               11497 non-null  int64  \n",
      " 31  center_point                          11497 non-null  object \n",
      "dtypes: float64(21), int64(8), object(3)\n",
      "memory usage: 2.9+ MB\n"
     ]
    }
   ],
   "source": [
    "sunroof_df.info()"
   ]
  },
  {
   "cell_type": "code",
   "execution_count": 33,
   "id": "6585b356-c8ee-4392-a2cd-8c5c4a72be9a",
   "metadata": {},
   "outputs": [
    {
     "name": "stdout",
     "output_type": "stream",
     "text": [
      "<class 'pandas.core.frame.DataFrame'>\n",
      "RangeIndex: 25000 entries, 0 to 24999\n",
      "Data columns (total 3 columns):\n",
      " #   Column      Non-Null Count  Dtype \n",
      "---  ------      --------------  ----- \n",
      " 0   geo_id      25000 non-null  object\n",
      " 1   zipcode     25000 non-null  int64 \n",
      " 2   population  25000 non-null  int64 \n",
      "dtypes: int64(2), object(1)\n",
      "memory usage: 586.1+ KB\n"
     ]
    }
   ],
   "source": [
    "# Removed the columns 'minimum_age', 'maximum_age', and 'gender'\n",
    "population_df = population_df.drop(columns=['minimum_age', 'maximum_age', 'gender'])\n",
    "\n",
    "population_df.info()"
   ]
  },
  {
   "cell_type": "code",
   "execution_count": 69,
   "id": "05602e98-5cb4-4723-ba17-b7f45f47b272",
   "metadata": {},
   "outputs": [],
   "source": [
    "# Rename 'region_name' to 'region_ZipCode'\n",
    "sunroof_df = sunroof_df.rename(columns={'region_name': 'region_ZipCode'})\n",
    "\n",
    "population_df = population_df.rename(columns={'zipcode': 'region_ZipCode'})"
   ]
  },
  {
   "cell_type": "code",
   "execution_count": 71,
   "id": "23b621d5-ae9b-4abf-bcd7-83576424d642",
   "metadata": {},
   "outputs": [
    {
     "name": "stdout",
     "output_type": "stream",
     "text": [
      "Index(['geo_id', 'region_ZipCode', 'population'], dtype='object')\n",
      "Index(['region_ZipCode', 'state_name', 'lat_max', 'lat_min', 'lng_max',\n",
      "       'lng_min', 'lat_avg', 'lng_avg', 'yearly_sunlight_kwh_kw_threshold_avg',\n",
      "       'count_qualified', 'percent_covered', 'percent_qualified',\n",
      "       'number_of_panels_n', 'number_of_panels_s', 'number_of_panels_e',\n",
      "       'number_of_panels_w', 'number_of_panels_f', 'number_of_panels_median',\n",
      "       'number_of_panels_total', 'kw_median', 'kw_total',\n",
      "       'yearly_sunlight_kwh_n', 'yearly_sunlight_kwh_s',\n",
      "       'yearly_sunlight_kwh_e', 'yearly_sunlight_kwh_w',\n",
      "       'yearly_sunlight_kwh_f', 'yearly_sunlight_kwh_median',\n",
      "       'yearly_sunlight_kwh_total', 'install_size_kw_buckets',\n",
      "       'carbon_offset_metric_tons', 'existing_installs_count', 'center_point'],\n",
      "      dtype='object')\n"
     ]
    }
   ],
   "source": [
    "print(population_df.columns)\n",
    "print(sunroof_df.columns)"
   ]
  },
  {
   "cell_type": "code",
   "execution_count": 45,
   "id": "89549654-9d73-461f-933f-0ee4a372f535",
   "metadata": {},
   "outputs": [],
   "source": [
    "# Save the cleaned sunroof data and cleaned population data\n",
    "sunroof_df.to_csv('cleaned_sunroof_data.csv', index=False)\n",
    "\n",
    "population_df.to_csv('cleaned_population_data.csv', index=False)\n"
   ]
  },
  {
   "cell_type": "code",
   "execution_count": 57,
   "id": "bda250db-e85c-4917-a3cd-dbd895318748",
   "metadata": {},
   "outputs": [],
   "source": [
    "import sqlalchemy as sal\n",
    "engine = sal.create_engine(r'mssql://LAPTOP-596A4ELM\\SQLEXPRESS/master?driver=ODBC+DRIVER+17+FOR+SQL+SERVER')\n",
    "conn = engine.connect()"
   ]
  },
  {
   "cell_type": "code",
   "execution_count": 59,
   "id": "578497f4-37ca-4777-8ec3-e48cc4a4765a",
   "metadata": {},
   "outputs": [
    {
     "data": {
      "text/plain": [
       "57"
      ]
     },
     "execution_count": 59,
     "metadata": {},
     "output_type": "execute_result"
    }
   ],
   "source": [
    "sunroof_df.to_sql('Project_Sunroof', con=conn, index=False, if_exists='replace')"
   ]
  },
  {
   "cell_type": "code",
   "execution_count": 61,
   "id": "65233b6f-d936-4377-ad8a-35e2e183aaf4",
   "metadata": {},
   "outputs": [
    {
     "data": {
      "text/plain": [
       "535"
      ]
     },
     "execution_count": 61,
     "metadata": {},
     "output_type": "execute_result"
    }
   ],
   "source": [
    "population_df.to_sql('Population', con=conn, index=False, if_exists='replace')"
   ]
  },
  {
   "cell_type": "code",
   "execution_count": null,
   "id": "978bf6b3-884c-4a51-8338-7658ab8d6c1c",
   "metadata": {},
   "outputs": [],
   "source": []
  }
 ],
 "metadata": {
  "kernelspec": {
   "display_name": "Python 3 (ipykernel)",
   "language": "python",
   "name": "python3"
  },
  "language_info": {
   "codemirror_mode": {
    "name": "ipython",
    "version": 3
   },
   "file_extension": ".py",
   "mimetype": "text/x-python",
   "name": "python",
   "nbconvert_exporter": "python",
   "pygments_lexer": "ipython3",
   "version": "3.12.4"
  }
 },
 "nbformat": 4,
 "nbformat_minor": 5
}
